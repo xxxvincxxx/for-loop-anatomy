{
 "cells": [
  {
   "cell_type": "markdown",
   "metadata": {},
   "source": [
    "## Understanding the for-loop \n",
    "Learning to use vectorized operations is a key skill in R.\n",
    "Why? \n",
    "\n",
    "A vectorized function works not just on a single value, but on a whole vector of values at the same time.\n",
    "http://www.dummies.com/programming/r/how-to-vectorize-your-functions-in-r/"
   ]
  },
  {
   "cell_type": "code",
   "execution_count": 101,
   "metadata": {},
   "outputs": [
    {
     "data": {
      "text/html": [
       "<table>\n",
       "<thead><tr><th></th><th scope=col>password</th></tr></thead>\n",
       "<tbody>\n",
       "\t<tr><th scope=row>310629</th><td>Bigmaccas   </td></tr>\n",
       "\t<tr><th scope=row>851491</th><td>0127515559  </td></tr>\n",
       "\t<tr><th scope=row>441758</th><td>dbqky73p    </td></tr>\n",
       "\t<tr><th scope=row>953793</th><td>sewing12    </td></tr>\n",
       "\t<tr><th scope=row>1015846</th><td>990990990990</td></tr>\n",
       "</tbody>\n",
       "</table>\n"
      ],
      "text/latex": [
       "\\begin{tabular}{r|l}\n",
       "  & password\\\\\n",
       "\\hline\n",
       "\t310629 & Bigmaccas   \\\\\n",
       "\t851491 & 0127515559  \\\\\n",
       "\t441758 & dbqky73p    \\\\\n",
       "\t953793 & sewing12    \\\\\n",
       "\t1015846 & 990990990990\\\\\n",
       "\\end{tabular}\n"
      ],
      "text/markdown": [
       "\n",
       "| <!--/--> | password | \n",
       "|---|---|---|---|---|\n",
       "| 310629 | Bigmaccas    | \n",
       "| 851491 | 0127515559   | \n",
       "| 441758 | dbqky73p     | \n",
       "| 953793 | sewing12     | \n",
       "| 1015846 | 990990990990 | \n",
       "\n",
       "\n"
      ],
      "text/plain": [
       "        password    \n",
       "310629  Bigmaccas   \n",
       "851491  0127515559  \n",
       "441758  dbqky73p    \n",
       "953793  sewing12    \n",
       "1015846 990990990990"
      ]
     },
     "metadata": {},
     "output_type": "display_data"
    }
   ],
   "source": [
    "library(tidyverse)\n",
    "library(data.table)\n",
    "library(rbenchmark)\n",
    "options(warn=-1)\n",
    "set.seed(123)\n",
    "\n",
    "# load data \n",
    "df <- read.csv('http://datashaping.com/passwords.txt', header = F, skip = 16) %>%\n",
    "                sample_n(10) %>% \n",
    "                rename(password = V1)\n",
    "head(df, 5)"
   ]
  },
  {
   "cell_type": "markdown",
   "metadata": {},
   "source": [
    "#### My attempt: wrong!\n",
    "\n",
    "As you can see, the result is *always* the same for each column I want to create.\n",
    "Let's understand why."
   ]
  },
  {
   "cell_type": "code",
   "execution_count": 64,
   "metadata": {},
   "outputs": [
    {
     "data": {
      "text/html": [
       "<table>\n",
       "<thead><tr><th></th><th scope=col>password</th><th scope=col>has_lower</th><th scope=col>has_upper</th><th scope=col>has_numeric</th></tr></thead>\n",
       "<tbody>\n",
       "\t<tr><th scope=row>310629</th><td>Bigmaccas   </td><td>1           </td><td>1           </td><td>1           </td></tr>\n",
       "\t<tr><th scope=row>851491</th><td>0127515559  </td><td>0           </td><td>0           </td><td>0           </td></tr>\n",
       "\t<tr><th scope=row>441758</th><td>dbqky73p    </td><td>1           </td><td>1           </td><td>1           </td></tr>\n",
       "\t<tr><th scope=row>953793</th><td>sewing12    </td><td>1           </td><td>1           </td><td>1           </td></tr>\n",
       "\t<tr><th scope=row>1015846</th><td>990990990990</td><td>0           </td><td>0           </td><td>0           </td></tr>\n",
       "\t<tr><th scope=row>49208</th><td>5cmajo76    </td><td>1           </td><td>1           </td><td>1           </td></tr>\n",
       "</tbody>\n",
       "</table>\n"
      ],
      "text/latex": [
       "\\begin{tabular}{r|llll}\n",
       "  & password & has\\_lower & has\\_upper & has\\_numeric\\\\\n",
       "\\hline\n",
       "\t310629 & Bigmaccas    & 1            & 1            & 1           \\\\\n",
       "\t851491 & 0127515559   & 0            & 0            & 0           \\\\\n",
       "\t441758 & dbqky73p     & 1            & 1            & 1           \\\\\n",
       "\t953793 & sewing12     & 1            & 1            & 1           \\\\\n",
       "\t1015846 & 990990990990 & 0            & 0            & 0           \\\\\n",
       "\t49208 & 5cmajo76     & 1            & 1            & 1           \\\\\n",
       "\\end{tabular}\n"
      ],
      "text/markdown": [
       "\n",
       "| <!--/--> | password | has_lower | has_upper | has_numeric | \n",
       "|---|---|---|---|---|---|\n",
       "| 310629 | Bigmaccas    | 1            | 1            | 1            | \n",
       "| 851491 | 0127515559   | 0            | 0            | 0            | \n",
       "| 441758 | dbqky73p     | 1            | 1            | 1            | \n",
       "| 953793 | sewing12     | 1            | 1            | 1            | \n",
       "| 1015846 | 990990990990 | 0            | 0            | 0            | \n",
       "| 49208 | 5cmajo76     | 1            | 1            | 1            | \n",
       "\n",
       "\n"
      ],
      "text/plain": [
       "        password     has_lower has_upper has_numeric\n",
       "310629  Bigmaccas    1         1         1          \n",
       "851491  0127515559   0         0         0          \n",
       "441758  dbqky73p     1         1         1          \n",
       "953793  sewing12     1         1         1          \n",
       "1015846 990990990990 0         0         0          \n",
       "49208   5cmajo76     1         1         1          "
      ]
     },
     "metadata": {},
     "output_type": "display_data"
    }
   ],
   "source": [
    "# define patterns\n",
    "patterns = c(\"[a-z]+\",\"[A-Z]+\",\"[A-Za-z]+\")\n",
    "\n",
    "# empty columns\n",
    "df$has_lower <- 0 \n",
    "df$has_upper <- 0\n",
    "df$has_numeric <- 0\n",
    "\n",
    "# start the loop\n",
    "for(i in 1:nrow(df)){\n",
    "    for(j in patterns){\n",
    "        n <- ifelse(grepl(j, df$password[i]),1,0)\n",
    "        }\n",
    "    df$has_lower[i] <- n\n",
    "    df$has_upper[i] <- n \n",
    "    df$has_numeric[i] <- n\n",
    "}\n",
    "head(df)"
   ]
  },
  {
   "cell_type": "markdown",
   "metadata": {},
   "source": [
    "### Method 1: canonical for-loop\n",
    "\n",
    "First you need to update `has_lower`,`has_upper`,`has_numeric` within the j loop otherwise your n remains the same for this 3 cases. \n",
    "To do so you need to be able to loop over the names of the columns:"
   ]
  },
  {
   "cell_type": "code",
   "execution_count": 73,
   "metadata": {},
   "outputs": [],
   "source": [
    "# define patterns\n",
    "patterns = c(\"[a-z]+\",\"[A-Z]+\",\"[A-Za-z]+\")\n",
    "names <- c(\"has_lower\",\"has_upper\",\"has_numeric\")\n",
    "\n",
    "for(i in 1:nrow(df)){\n",
    "    # used 1:length(patterns) where\n",
    "    # length(pattern)=3\n",
    "  for(j in 1:length(patterns)){\n",
    "      # df[i,(names[j])] selects the row i for the column named after names[j]. \n",
    "      # The brackets around names[j] tells R that it has to use the value \n",
    "      # of the variable names[j] to look for the corresponding column in df. \n",
    "      # There is no column named names[j] in df but there are columns named has_lower, has_upper etc..\n",
    "    df[i,(names[j])] <- as.numeric(grepl(j, df$password[i]))\n",
    "  }\n",
    "}\n"
   ]
  },
  {
   "cell_type": "markdown",
   "metadata": {},
   "source": [
    "### Method 2: apply with data.table\n",
    "A quicker, nicer, more compact alternative using `apply` and the fact that `grepl` is already vectorized:"
   ]
  },
  {
   "cell_type": "code",
   "execution_count": 76,
   "metadata": {},
   "outputs": [
    {
     "data": {},
     "metadata": {},
     "output_type": "display_data"
    },
    {
     "data": {
      "text/html": [
       "<table>\n",
       "<thead><tr><th scope=col>password</th><th scope=col>has_lower</th><th scope=col>has_upper</th><th scope=col>has_numeric</th></tr></thead>\n",
       "<tbody>\n",
       "\t<tr><td>Bigmaccas   </td><td> TRUE       </td><td> TRUE       </td><td> TRUE       </td></tr>\n",
       "\t<tr><td>0127515559  </td><td>FALSE       </td><td>FALSE       </td><td>FALSE       </td></tr>\n",
       "\t<tr><td>dbqky73p    </td><td> TRUE       </td><td>FALSE       </td><td> TRUE       </td></tr>\n",
       "\t<tr><td>sewing12    </td><td> TRUE       </td><td>FALSE       </td><td> TRUE       </td></tr>\n",
       "\t<tr><td>990990990990</td><td>FALSE       </td><td>FALSE       </td><td>FALSE       </td></tr>\n",
       "\t<tr><td>5cmajo76    </td><td> TRUE       </td><td>FALSE       </td><td> TRUE       </td></tr>\n",
       "\t<tr><td>acolite4    </td><td> TRUE       </td><td>FALSE       </td><td> TRUE       </td></tr>\n",
       "\t<tr><td>Ladychamp09 </td><td> TRUE       </td><td> TRUE       </td><td> TRUE       </td></tr>\n",
       "\t<tr><td>198246      </td><td>FALSE       </td><td>FALSE       </td><td>FALSE       </td></tr>\n",
       "\t<tr><td>230203zx    </td><td> TRUE       </td><td>FALSE       </td><td> TRUE       </td></tr>\n",
       "</tbody>\n",
       "</table>\n"
      ],
      "text/latex": [
       "\\begin{tabular}{r|llll}\n",
       " password & has\\_lower & has\\_upper & has\\_numeric\\\\\n",
       "\\hline\n",
       "\t Bigmaccas    &  TRUE        &  TRUE        &  TRUE       \\\\\n",
       "\t 0127515559   & FALSE        & FALSE        & FALSE       \\\\\n",
       "\t dbqky73p     &  TRUE        & FALSE        &  TRUE       \\\\\n",
       "\t sewing12     &  TRUE        & FALSE        &  TRUE       \\\\\n",
       "\t 990990990990 & FALSE        & FALSE        & FALSE       \\\\\n",
       "\t 5cmajo76     &  TRUE        & FALSE        &  TRUE       \\\\\n",
       "\t acolite4     &  TRUE        & FALSE        &  TRUE       \\\\\n",
       "\t Ladychamp09  &  TRUE        &  TRUE        &  TRUE       \\\\\n",
       "\t 198246       & FALSE        & FALSE        & FALSE       \\\\\n",
       "\t 230203zx     &  TRUE        & FALSE        &  TRUE       \\\\\n",
       "\\end{tabular}\n"
      ],
      "text/markdown": [
       "\n",
       "password | has_lower | has_upper | has_numeric | \n",
       "|---|---|---|---|---|---|---|---|---|---|\n",
       "| Bigmaccas    |  TRUE        |  TRUE        |  TRUE        | \n",
       "| 0127515559   | FALSE        | FALSE        | FALSE        | \n",
       "| dbqky73p     |  TRUE        | FALSE        |  TRUE        | \n",
       "| sewing12     |  TRUE        | FALSE        |  TRUE        | \n",
       "| 990990990990 | FALSE        | FALSE        | FALSE        | \n",
       "| 5cmajo76     |  TRUE        | FALSE        |  TRUE        | \n",
       "| acolite4     |  TRUE        | FALSE        |  TRUE        | \n",
       "| Ladychamp09  |  TRUE        |  TRUE        |  TRUE        | \n",
       "| 198246       | FALSE        | FALSE        | FALSE        | \n",
       "| 230203zx     |  TRUE        | FALSE        |  TRUE        | \n",
       "\n",
       "\n"
      ],
      "text/plain": [
       "   password     has_lower has_upper has_numeric\n",
       "1  Bigmaccas     TRUE      TRUE      TRUE      \n",
       "2  0127515559   FALSE     FALSE     FALSE      \n",
       "3  dbqky73p      TRUE     FALSE      TRUE      \n",
       "4  sewing12      TRUE     FALSE      TRUE      \n",
       "5  990990990990 FALSE     FALSE     FALSE      \n",
       "6  5cmajo76      TRUE     FALSE      TRUE      \n",
       "7  acolite4      TRUE     FALSE      TRUE      \n",
       "8  Ladychamp09   TRUE      TRUE      TRUE      \n",
       "9  198246       FALSE     FALSE     FALSE      \n",
       "10 230203zx      TRUE     FALSE      TRUE      "
      ]
     },
     "metadata": {},
     "output_type": "display_data"
    }
   ],
   "source": [
    "df[, c(\"has_lower\",\"has_upper\",\"has_numeric\"):=lapply(patterns, function(x) grepl(x,dt$password))]\n",
    "df"
   ]
  },
  {
   "cell_type": "markdown",
   "metadata": {},
   "source": [
    "### Method 3: a little semplification: aggregating the pattern in a vector containing already the names\n",
    "\n",
    "We can simplify things if we just name your pattern vector.\n",
    "\n",
    "Basically we just loop through each of the names, grab the regular expression corresponding to that name, then do the matching and adding the column."
   ]
  },
  {
   "cell_type": "code",
   "execution_count": 67,
   "metadata": {},
   "outputs": [
    {
     "data": {
      "text/html": [
       "<table>\n",
       "<thead><tr><th scope=col>password</th><th scope=col>has_lower</th><th scope=col>has_upper</th><th scope=col>has_numeric</th></tr></thead>\n",
       "<tbody>\n",
       "\t<tr><td>Bigmaccas   </td><td>1           </td><td>1           </td><td>0           </td></tr>\n",
       "\t<tr><td>0127515559  </td><td>0           </td><td>0           </td><td>1           </td></tr>\n",
       "\t<tr><td>dbqky73p    </td><td>1           </td><td>0           </td><td>1           </td></tr>\n",
       "\t<tr><td>sewing12    </td><td>1           </td><td>0           </td><td>1           </td></tr>\n",
       "\t<tr><td>990990990990</td><td>0           </td><td>0           </td><td>1           </td></tr>\n",
       "\t<tr><td>5cmajo76    </td><td>1           </td><td>0           </td><td>1           </td></tr>\n",
       "</tbody>\n",
       "</table>\n"
      ],
      "text/latex": [
       "\\begin{tabular}{r|llll}\n",
       " password & has\\_lower & has\\_upper & has\\_numeric\\\\\n",
       "\\hline\n",
       "\t Bigmaccas    & 1            & 1            & 0           \\\\\n",
       "\t 0127515559   & 0            & 0            & 1           \\\\\n",
       "\t dbqky73p     & 1            & 0            & 1           \\\\\n",
       "\t sewing12     & 1            & 0            & 1           \\\\\n",
       "\t 990990990990 & 0            & 0            & 1           \\\\\n",
       "\t 5cmajo76     & 1            & 0            & 1           \\\\\n",
       "\\end{tabular}\n"
      ],
      "text/markdown": [
       "\n",
       "password | has_lower | has_upper | has_numeric | \n",
       "|---|---|---|---|---|---|\n",
       "| Bigmaccas    | 1            | 1            | 0            | \n",
       "| 0127515559   | 0            | 0            | 1            | \n",
       "| dbqky73p     | 1            | 0            | 1            | \n",
       "| sewing12     | 1            | 0            | 1            | \n",
       "| 990990990990 | 0            | 0            | 1            | \n",
       "| 5cmajo76     | 1            | 0            | 1            | \n",
       "\n",
       "\n"
      ],
      "text/plain": [
       "  password     has_lower has_upper has_numeric\n",
       "1 Bigmaccas    1         1         0          \n",
       "2 0127515559   0         0         1          \n",
       "3 dbqky73p     1         0         1          \n",
       "4 sewing12     1         0         1          \n",
       "5 990990990990 0         0         1          \n",
       "6 5cmajo76     1         0         1          "
      ]
     },
     "metadata": {},
     "output_type": "display_data"
    }
   ],
   "source": [
    "patterns = c(has_lower=\"[a-z]\",\n",
    "             has_upper=\"[A-Z]\",\n",
    "             has_numeric=\"[0-9]+\")\n",
    "\n",
    "for(i in names(patterns)) {\n",
    "  df[, i] = as.numeric(grepl(patterns[i], df$password))\n",
    "}\n",
    "head(df)"
   ]
  },
  {
   "cell_type": "markdown",
   "metadata": {},
   "source": [
    "### Method 4: easy-peasy\n",
    "A data frame is above all a list.\n",
    "So, you can simply do:"
   ]
  },
  {
   "cell_type": "code",
   "execution_count": 68,
   "metadata": {},
   "outputs": [
    {
     "data": {
      "text/html": [
       "<table>\n",
       "<thead><tr><th scope=col>password</th><th scope=col>has_lower</th><th scope=col>has_upper</th><th scope=col>has_numeric</th></tr></thead>\n",
       "<tbody>\n",
       "\t<tr><td>Bigmaccas   </td><td>1           </td><td>1           </td><td>1           </td></tr>\n",
       "\t<tr><td>0127515559  </td><td>0           </td><td>0           </td><td>0           </td></tr>\n",
       "\t<tr><td>dbqky73p    </td><td>1           </td><td>0           </td><td>1           </td></tr>\n",
       "\t<tr><td>sewing12    </td><td>1           </td><td>0           </td><td>1           </td></tr>\n",
       "\t<tr><td>990990990990</td><td>0           </td><td>0           </td><td>0           </td></tr>\n",
       "\t<tr><td>5cmajo76    </td><td>1           </td><td>0           </td><td>1           </td></tr>\n",
       "</tbody>\n",
       "</table>\n"
      ],
      "text/latex": [
       "\\begin{tabular}{r|llll}\n",
       " password & has\\_lower & has\\_upper & has\\_numeric\\\\\n",
       "\\hline\n",
       "\t Bigmaccas    & 1            & 1            & 1           \\\\\n",
       "\t 0127515559   & 0            & 0            & 0           \\\\\n",
       "\t dbqky73p     & 1            & 0            & 1           \\\\\n",
       "\t sewing12     & 1            & 0            & 1           \\\\\n",
       "\t 990990990990 & 0            & 0            & 0           \\\\\n",
       "\t 5cmajo76     & 1            & 0            & 1           \\\\\n",
       "\\end{tabular}\n"
      ],
      "text/markdown": [
       "\n",
       "password | has_lower | has_upper | has_numeric | \n",
       "|---|---|---|---|---|---|\n",
       "| Bigmaccas    | 1            | 1            | 1            | \n",
       "| 0127515559   | 0            | 0            | 0            | \n",
       "| dbqky73p     | 1            | 0            | 1            | \n",
       "| sewing12     | 1            | 0            | 1            | \n",
       "| 990990990990 | 0            | 0            | 0            | \n",
       "| 5cmajo76     | 1            | 0            | 1            | \n",
       "\n",
       "\n"
      ],
      "text/plain": [
       "  password     has_lower has_upper has_numeric\n",
       "1 Bigmaccas    1         1         1          \n",
       "2 0127515559   0         0         0          \n",
       "3 dbqky73p     1         0         1          \n",
       "4 sewing12     1         0         1          \n",
       "5 990990990990 0         0         0          \n",
       "6 5cmajo76     1         0         1          "
      ]
     },
     "metadata": {},
     "output_type": "display_data"
    }
   ],
   "source": [
    "df <- as.data.frame(df)\n",
    "patterns = c(\"[a-z]+\",\"[A-Z]+\",\"[A-Za-z]+\")\n",
    "\n",
    "df[c(\"has_lower\", \"has_upper\", \"has_numeric\")] <- \n",
    "  lapply(patterns, function(pattern) grepl(pattern, df$password) + 0)\n",
    "head(df)"
   ]
  },
  {
   "cell_type": "markdown",
   "metadata": {},
   "source": [
    "Use `+ 0L` instead of `+ 0` is you want integers instead of doubles (I would recommend to do nothing and to keep logicals)."
   ]
  },
  {
   "cell_type": "markdown",
   "metadata": {},
   "source": [
    "### And now let's benchmark!"
   ]
  },
  {
   "cell_type": "code",
   "execution_count": 111,
   "metadata": {},
   "outputs": [
    {
     "data": {
      "text/html": [
       "<table>\n",
       "<thead><tr><th></th><th scope=col>test</th><th scope=col>replications</th><th scope=col>elapsed</th><th scope=col>relative</th><th scope=col>user.self</th><th scope=col>sys.self</th></tr></thead>\n",
       "<tbody>\n",
       "\t<tr><th scope=row>3</th><td>apply.with.columns.trick</td><td>10                      </td><td>0.298                   </td><td> 49.667                 </td><td>0.277                   </td><td>0.020                   </td></tr>\n",
       "\t<tr><th scope=row>2</th><td>data.table_apply        </td><td>10                      </td><td>0.006                   </td><td>  1.000                 </td><td>0.006                   </td><td>0.000                   </td></tr>\n",
       "\t<tr><th scope=row>4</th><td>easy-peasy              </td><td>10                      </td><td>0.036                   </td><td>  6.000                 </td><td>0.025                   </td><td>0.012                   </td></tr>\n",
       "\t<tr><th scope=row>1</th><td>simple_loop             </td><td>10                      </td><td>4.935                   </td><td>822.500                 </td><td>4.908                   </td><td>0.026                   </td></tr>\n",
       "</tbody>\n",
       "</table>\n"
      ],
      "text/latex": [
       "\\begin{tabular}{r|llllll}\n",
       "  & test & replications & elapsed & relative & user.self & sys.self\\\\\n",
       "\\hline\n",
       "\t3 & apply.with.columns.trick & 10                       & 0.298                    &  49.667                  & 0.277                    & 0.020                   \\\\\n",
       "\t2 & data.table\\_apply         & 10                         & 0.006                      &   1.000                    & 0.006                      & 0.000                     \\\\\n",
       "\t4 & easy-peasy               & 10                       & 0.036                    &   6.000                  & 0.025                    & 0.012                   \\\\\n",
       "\t1 & simple\\_loop              & 10                         & 4.935                      & 822.500                    & 4.908                      & 0.026                     \\\\\n",
       "\\end{tabular}\n"
      ],
      "text/markdown": [
       "\n",
       "| <!--/--> | test | replications | elapsed | relative | user.self | sys.self | \n",
       "|---|---|---|---|\n",
       "| 3 | apply.with.columns.trick | 10                       | 0.298                    |  49.667                  | 0.277                    | 0.020                    | \n",
       "| 2 | data.table_apply         | 10                       | 0.006                    |   1.000                  | 0.006                    | 0.000                    | \n",
       "| 4 | easy-peasy               | 10                       | 0.036                    |   6.000                  | 0.025                    | 0.012                    | \n",
       "| 1 | simple_loop              | 10                       | 4.935                    | 822.500                  | 4.908                    | 0.026                    | \n",
       "\n",
       "\n"
      ],
      "text/plain": [
       "  test                     replications elapsed relative user.self sys.self\n",
       "3 apply.with.columns.trick 10           0.298    49.667  0.277     0.020   \n",
       "2 data.table_apply         10           0.006     1.000  0.006     0.000   \n",
       "4 easy-peasy               10           0.036     6.000  0.025     0.012   \n",
       "1 simple_loop              10           4.935   822.500  4.908     0.026   "
      ]
     },
     "metadata": {},
     "output_type": "display_data"
    }
   ],
   "source": [
    "# rbenchmark\n",
    "benchmark_table <- benchmark(\"simple_loop\" = {\n",
    "    patterns = c(\"[a-z]+\",\"[A-Z]+\",\"[A-Za-z]+\")\n",
    "    names <- c(\"has_lower\",\"has_upper\",\"has_numeric\")\n",
    "    for(i in 1:nrow(df)){\n",
    "      for(j in 1:length(patterns)){\n",
    "        df[i,(names[j])] <- as.logical(grepl(j, df$password[i]))\n",
    "      }\n",
    "    }\n",
    "}, \n",
    "# 2 method\n",
    "\"data.table_apply\" = {\n",
    "    dt <- setDT(df)\n",
    "    dt[, c(\"has_lower\",\"has_upper\",\"has_numeric\"):=lapply(patterns, function(x) grepl(x,dt$password))]\n",
    " },\n",
    "\"apply.with.columns.trick\" = {\n",
    "        patterns = c(has_lower=\"[a-z]\",\n",
    "                     has_upper=\"[A-Z]\",\n",
    "                     has_numeric=\"[0-9]+\")\n",
    "    for(i in names(patterns)) {\n",
    "      df[, i] = as.logical(grepl(patterns[i], df$password))\n",
    "    }\n",
    "# # 4 method        \n",
    "},\"easy-peasy\" = {\n",
    "    df[,c(\"has_lower\", \"has_upper\", \"has_numeric\")] <- lapply(patterns, function(pattern) grepl(pattern, df$password) + 0)\n",
    "},\n",
    "replications = 10,\n",
    "columns = c(\"test\", \"replications\", \"elapsed\", \"relative\", \"user.self\", \"sys.self\"))\n",
    "benchmark_table"
   ]
  },
  {
   "cell_type": "markdown",
   "metadata": {},
   "source": [
    "#### It's time to start learning data.table :( - damn! "
   ]
  }
 ],
 "metadata": {
  "kernelspec": {
   "display_name": "R",
   "language": "R",
   "name": "ir"
  },
  "language_info": {
   "codemirror_mode": "r",
   "file_extension": ".r",
   "mimetype": "text/x-r-source",
   "name": "R",
   "pygments_lexer": "r",
   "version": "3.4.4"
  }
 },
 "nbformat": 4,
 "nbformat_minor": 2
}
