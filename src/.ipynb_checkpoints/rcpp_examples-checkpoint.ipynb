{
 "cells": [
  {
   "cell_type": "markdown",
   "metadata": {},
   "source": [
    "## Extending R with C++"
   ]
  },
  {
   "cell_type": "markdown",
   "metadata": {},
   "source": [
    "#### Even or odd?"
   ]
  },
  {
   "cell_type": "code",
   "execution_count": 36,
   "metadata": {},
   "outputs": [],
   "source": [
    "library(Rcpp)\n",
    "library(rbenchmark)"
   ]
  },
  {
   "cell_type": "code",
   "execution_count": 37,
   "metadata": {},
   "outputs": [],
   "source": [
    "## is odd function in R\n",
    "## default practice: is to use x mod 2\n",
    "isOddR <- function(x){\n",
    "    result <- (x %% 2L == 1L)\n",
    "}"
   ]
  },
  {
   "cell_type": "code",
   "execution_count": 38,
   "metadata": {},
   "outputs": [],
   "source": [
    "## same story, but in C++ \n",
    "## is statically-typed, hence we need to\n",
    "## explicitely declare the type of variable\n",
    "cppFunction(\"\n",
    "bool isOddCpp(int num) {\n",
    "    bool result = (num % 2 == 1);\n",
    "    return result;\n",
    "}\")"
   ]
  },
  {
   "cell_type": "code",
   "execution_count": 67,
   "metadata": {},
   "outputs": [
    {
     "data": {
      "text/html": [
       "<ol class=list-inline>\n",
       "\t<li>1</li>\n",
       "\t<li>2</li>\n",
       "\t<li>3</li>\n",
       "</ol>\n"
      ],
      "text/latex": [
       "\\begin{enumerate*}\n",
       "\\item 1\n",
       "\\item 2\n",
       "\\item 3\n",
       "\\end{enumerate*}\n"
      ],
      "text/markdown": [
       "1. 1\n",
       "2. 2\n",
       "3. 3\n",
       "\n",
       "\n"
      ],
      "text/plain": [
       "[1] 1 2 3"
      ]
     },
     "metadata": {},
     "output_type": "display_data"
    }
   ],
   "source": [
    "replications <- seq_along(1:3)\n",
    "replications"
   ]
  },
  {
   "cell_type": "code",
   "execution_count": 78,
   "metadata": {},
   "outputs": [],
   "source": [
    "for (r in seq_along(replications)){\n",
    "\n",
    "df <- benchmark(\"isOddR\" = {isOddR(1)}, \n",
    "                \"isOddCpp\" = {isOddCpp(1)},\n",
    "replications = r,\n",
    "columns = c(\"test\", \"replications\", \"elapsed\"))\n",
    "\n",
    "rbind(df)    \n",
    "}\n",
    "\n",
    " \n"
   ]
  },
  {
   "cell_type": "code",
   "execution_count": 79,
   "metadata": {},
   "outputs": [
    {
     "data": {
      "text/html": [
       "<table>\n",
       "<thead><tr><th></th><th scope=col>test</th><th scope=col>replications</th><th scope=col>elapsed</th></tr></thead>\n",
       "<tbody>\n",
       "\t<tr><th scope=row>2</th><td>isOddCpp</td><td>3       </td><td>0       </td></tr>\n",
       "\t<tr><th scope=row>1</th><td>isOddR  </td><td>3       </td><td>0       </td></tr>\n",
       "</tbody>\n",
       "</table>\n"
      ],
      "text/latex": [
       "\\begin{tabular}{r|lll}\n",
       "  & test & replications & elapsed\\\\\n",
       "\\hline\n",
       "\t2 & isOddCpp & 3        & 0       \\\\\n",
       "\t1 & isOddR   & 3        & 0       \\\\\n",
       "\\end{tabular}\n"
      ],
      "text/markdown": [
       "\n",
       "| <!--/--> | test | replications | elapsed | \n",
       "|---|---|\n",
       "| 2 | isOddCpp | 3        | 0        | \n",
       "| 1 | isOddR   | 3        | 0        | \n",
       "\n",
       "\n"
      ],
      "text/plain": [
       "  test     replications elapsed\n",
       "2 isOddCpp 3            0      \n",
       "1 isOddR   3            0      "
      ]
     },
     "metadata": {},
     "output_type": "display_data"
    }
   ],
   "source": [
    "benchmark_table"
   ]
  },
  {
   "cell_type": "markdown",
   "metadata": {},
   "source": [
    "#### Bootstrap"
   ]
  },
  {
   "cell_type": "code",
   "execution_count": 49,
   "metadata": {},
   "outputs": [
    {
     "name": "stdout",
     "output_type": "stream",
     "text": [
      "'data.frame':\t2 obs. of  3 variables:\n",
      " $ test        : Factor w/ 2 levels \"isOddCpp\",\"isOddR\": 1 2\n",
      " $ replications: int  10000 10000\n",
      " $ elapsed     : num  0.028 0.022\n"
     ]
    }
   ],
   "source": [
    "benchmark_table <- benchmark(\"isOddR\" = {isOddR(1)}, \n",
    "                             \"isOddCpp\" = {isOddCpp(1)},\n",
    "replications = 10000,\n",
    "columns = c(\"test\", \"replications\", \"elapsed\"))"
   ]
  }
 ],
 "metadata": {
  "kernelspec": {
   "display_name": "R",
   "language": "R",
   "name": "ir"
  },
  "language_info": {
   "codemirror_mode": "r",
   "file_extension": ".r",
   "mimetype": "text/x-r-source",
   "name": "R",
   "pygments_lexer": "r",
   "version": "3.4.4"
  }
 },
 "nbformat": 4,
 "nbformat_minor": 2
}
