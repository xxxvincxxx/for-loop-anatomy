{
 "cells": [
  {
   "cell_type": "code",
   "execution_count": 5,
   "metadata": {},
   "outputs": [],
   "source": [
    "library(data.table)\n",
    "library(dplyr)\n",
    "library(rbenchmark)\n",
    "set.seed(123)"
   ]
  },
  {
   "cell_type": "code",
   "execution_count": 6,
   "metadata": {},
   "outputs": [],
   "source": [
    "## rbenchmark\n",
    "benchmark <- benchmark(\"read.csv\" = {\n",
    "            df <- read.csv('http://datashaping.com/passwords.txt', header = F, skip = 16)\n",
    "            df <- df %>%\n",
    "                sample_n(10) %>% \n",
    "                rename(password = V1)\n",
    "          },\"fread\" = {\n",
    "          df <- fread(\"wget -S -O - http://datashaping.com/passwords.txt | shuf -n10\") \n",
    "          },\n",
    "          replications = 10,\n",
    "          columns = c(\"test\", \"replications\", \"elapsed\",\n",
    "                      \"relative\", \"user.self\", \"sys.self\"))"
   ]
  }
 ],
 "metadata": {
  "kernelspec": {
   "display_name": "R",
   "language": "R",
   "name": "ir"
  },
  "language_info": {
   "codemirror_mode": "r",
   "file_extension": ".r",
   "mimetype": "text/x-r-source",
   "name": "R",
   "pygments_lexer": "r",
   "version": "3.4.4"
  }
 },
 "nbformat": 4,
 "nbformat_minor": 2
}
